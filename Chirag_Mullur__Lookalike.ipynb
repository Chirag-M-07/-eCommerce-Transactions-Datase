{
 "cells": [
  {
   "cell_type": "code",
   "execution_count": 7,
   "id": "d70af1a2-71ce-4ba8-aac6-de8b4966785c",
   "metadata": {},
   "outputs": [],
   "source": [
    "import pandas as pd \n",
    "import matplotlib.pyplot as plt \n",
    "customers=pd.read_csv(r\"F:\\Downloads\\Customers.csv\")\n",
    "products=pd.read_csv(r\"F:\\Downloads\\Products.csv\")\n",
    "transactions=pd.read_csv(r\"F:\\Downloads\\Transactions.csv\")"
   ]
  },
  {
   "cell_type": "code",
   "execution_count": 9,
   "id": "a33aa8e4-9816-4ceb-9f0a-168ff67d58c1",
   "metadata": {},
   "outputs": [
    {
     "name": "stdout",
     "output_type": "stream",
     "text": [
      "Customers Dataset Overview:\n",
      "<class 'pandas.core.frame.DataFrame'>\n",
      "RangeIndex: 200 entries, 0 to 199\n",
      "Data columns (total 4 columns):\n",
      " #   Column        Non-Null Count  Dtype \n",
      "---  ------        --------------  ----- \n",
      " 0   CustomerID    200 non-null    object\n",
      " 1   CustomerName  200 non-null    object\n",
      " 2   Region        200 non-null    object\n",
      " 3   SignupDate    200 non-null    object\n",
      "dtypes: object(4)\n",
      "memory usage: 6.4+ KB\n",
      "  CustomerID        CustomerName         Region  SignupDate\n",
      "0      C0001    Lawrence Carroll  South America  2022-07-10\n",
      "1      C0002      Elizabeth Lutz           Asia  2022-02-13\n",
      "2      C0003      Michael Rivera  South America  2024-03-07\n",
      "3      C0004  Kathleen Rodriguez  South America  2022-10-09\n",
      "4      C0005         Laura Weber           Asia  2022-08-15 None        CustomerID      CustomerName         Region  SignupDate\n",
      "count         200               200            200         200\n",
      "unique        200               200              4         179\n",
      "top         C0001  Lawrence Carroll  South America  2024-11-11\n",
      "freq            1                 1             59           3\n",
      "Products Dataset Overview:\n",
      "<class 'pandas.core.frame.DataFrame'>\n",
      "RangeIndex: 100 entries, 0 to 99\n",
      "Data columns (total 4 columns):\n",
      " #   Column       Non-Null Count  Dtype  \n",
      "---  ------       --------------  -----  \n",
      " 0   ProductID    100 non-null    object \n",
      " 1   ProductName  100 non-null    object \n",
      " 2   Category     100 non-null    object \n",
      " 3   Price        100 non-null    float64\n",
      "dtypes: float64(1), object(3)\n",
      "memory usage: 3.3+ KB\n",
      "  ProductID              ProductName     Category   Price\n",
      "0      P001     ActiveWear Biography        Books  169.30\n",
      "1      P002    ActiveWear Smartwatch  Electronics  346.30\n",
      "2      P003  ComfortLiving Biography        Books   44.12\n",
      "3      P004            BookWorld Rug   Home Decor   95.69\n",
      "4      P005          TechPro T-Shirt     Clothing  429.31 None             Price\n",
      "count  100.000000\n",
      "mean   267.551700\n",
      "std    143.219383\n",
      "min     16.080000\n",
      "25%    147.767500\n",
      "50%    292.875000\n",
      "75%    397.090000\n",
      "max    497.760000\n",
      "Transactions Dataset Overview:\n",
      "<class 'pandas.core.frame.DataFrame'>\n",
      "RangeIndex: 1000 entries, 0 to 999\n",
      "Data columns (total 7 columns):\n",
      " #   Column           Non-Null Count  Dtype  \n",
      "---  ------           --------------  -----  \n",
      " 0   TransactionID    1000 non-null   object \n",
      " 1   CustomerID       1000 non-null   object \n",
      " 2   ProductID        1000 non-null   object \n",
      " 3   TransactionDate  1000 non-null   object \n",
      " 4   Quantity         1000 non-null   int64  \n",
      " 5   TotalValue       1000 non-null   float64\n",
      " 6   Price            1000 non-null   float64\n",
      "dtypes: float64(2), int64(1), object(4)\n",
      "memory usage: 54.8+ KB\n",
      "  TransactionID CustomerID ProductID      TransactionDate  Quantity  \\\n",
      "0        T00001      C0199      P067  2024-08-25 12:38:23         1   \n",
      "1        T00112      C0146      P067  2024-05-27 22:23:54         1   \n",
      "2        T00166      C0127      P067  2024-04-25 07:38:55         1   \n",
      "3        T00272      C0087      P067  2024-03-26 22:55:37         2   \n",
      "4        T00363      C0070      P067  2024-03-21 15:10:10         3   \n",
      "\n",
      "   TotalValue   Price  \n",
      "0      300.68  300.68  \n",
      "1      300.68  300.68  \n",
      "2      300.68  300.68  \n",
      "3      601.36  300.68  \n",
      "4      902.04  300.68   None           Quantity   TotalValue       Price\n",
      "count  1000.000000  1000.000000  1000.00000\n",
      "mean      2.537000   689.995560   272.55407\n",
      "std       1.117981   493.144478   140.73639\n",
      "min       1.000000    16.080000    16.08000\n",
      "25%       2.000000   295.295000   147.95000\n",
      "50%       3.000000   588.880000   299.93000\n",
      "75%       4.000000  1011.660000   404.40000\n",
      "max       4.000000  1991.040000   497.76000\n"
     ]
    }
   ],
   "source": [
    "print(\"Customers Dataset Overview:\")\n",
    "print(customers.head(), customers.info(), customers.describe())\n",
    "\n",
    "print(\"Products Dataset Overview:\")\n",
    "print(products.head(), products.info(), products.describe())\n",
    "\n",
    "print(\"Transactions Dataset Overview:\")\n",
    "print(transactions.head(), transactions.info(), transactions.describe())"
   ]
  },
  {
   "cell_type": "code",
   "execution_count": 15,
   "id": "1e5d08ab-4233-4d83-a3e8-5daedebb2628",
   "metadata": {},
   "outputs": [],
   "source": [
    "data=transactions.merge(customers,on=\"CustomerID\").merge(products,on=\"ProductID\")"
   ]
  },
  {
   "cell_type": "code",
   "execution_count": 17,
   "id": "e7f6df0d-839d-403f-a97e-4e5e66e85736",
   "metadata": {},
   "outputs": [],
   "source": [
    "# Task 2: Lookalike Model\n",
    "import pandas as pd\n",
    "from sklearn.metrics.pairwise import cosine_similarity\n",
    "from sklearn.preprocessing import StandardScaler\n",
    "customer_profiles=data.groupby('CustomerID').agg({\n",
    "    'Quantity': 'sum',          # Total products purchased\n",
    "    'TotalValue': 'sum',        # Total money spent\n",
    "    'ProductID': 'count',       # Total transactions\n",
    "    'Region': 'first',          # Region of the customer\n",
    "}).reset_index()"
   ]
  },
  {
   "cell_type": "code",
   "execution_count": 21,
   "id": "337c5a17-260e-4913-aaf0-1623d55d7545",
   "metadata": {},
   "outputs": [],
   "source": [
    "customer_profiles = pd.get_dummies(customer_profiles, columns=['Region'], drop_first=True)"
   ]
  },
  {
   "cell_type": "code",
   "execution_count": 23,
   "id": "dfc157bb-1fe3-47f3-93f0-0828a5316441",
   "metadata": {},
   "outputs": [],
   "source": [
    "# Standardize features for similarity computation\n",
    "scaler = StandardScaler()\n",
    "scaled_features = scaler.fit_transform(customer_profiles.iloc[:, 1:])"
   ]
  },
  {
   "cell_type": "code",
   "execution_count": 25,
   "id": "77ab37bb-e64a-401e-8aa0-4484229311ad",
   "metadata": {},
   "outputs": [],
   "source": [
    "# Compute pairwise cosine similarity\n",
    "similarity_matrix = cosine_similarity(scaled_features)"
   ]
  },
  {
   "cell_type": "code",
   "execution_count": 27,
   "id": "54ad5bbd-9307-4696-863a-6de684440a88",
   "metadata": {},
   "outputs": [],
   "source": [
    "# Map customers to their similar customers with scores\n",
    "lookalike_results = {}\n",
    "for idx, customer_id in enumerate(customer_profiles['CustomerID']):\n",
    "    # Get similarity scores for this customer and sort them\n",
    "    similar_indices = similarity_matrix[idx].argsort()[::-1]  # Sort in descending order\n",
    "    similar_customers = [\n",
    "        (customer_profiles['CustomerID'].iloc[i], similarity_matrix[idx][i])\n",
    "        for i in similar_indices if i != idx  # Exclude the customer itself\n",
    "    ]\n",
    "    # Take the top 3 similar customers\n",
    "    lookalike_results[customer_id] = similar_customers[:3]"
   ]
  },
  {
   "cell_type": "code",
   "execution_count": 29,
   "id": "ced24a51-578f-4a05-9b25-78074654cead",
   "metadata": {},
   "outputs": [],
   "source": [
    "# Create a DataFrame for the first 20 customers (CustomerID: C0001 to C0020)\n",
    "lookalike_data = {\n",
    "    \"CustomerID\": [],\n",
    "    \"SimilarCustomers\": []\n",
    "}"
   ]
  },
  {
   "cell_type": "code",
   "execution_count": 31,
   "id": "fdd127db-aff6-4b44-a897-085cd8b4ce15",
   "metadata": {},
   "outputs": [],
   "source": [
    "for customer_id, similar_customers in list(lookalike_results.items())[:20]:  # First 20 customers\n",
    "    lookalike_data[\"CustomerID\"].append(customer_id)\n",
    "    lookalike_data[\"SimilarCustomers\"].append(similar_customers)\n",
    "\n",
    "lookalike_df = pd.DataFrame(lookalike_data)"
   ]
  },
  {
   "cell_type": "code",
   "execution_count": 33,
   "id": "da529537-9af8-475f-b17e-97407c839011",
   "metadata": {},
   "outputs": [
    {
     "name": "stdout",
     "output_type": "stream",
     "text": [
      "  CustomerID                                   SimilarCustomers\n",
      "0      C0001  [(C0107, 0.9964160629333633), (C0137, 0.995700...\n",
      "1      C0002  [(C0142, 0.9887986276382208), (C0177, 0.966505...\n",
      "2      C0003  [(C0190, 0.9663449212719497), (C0133, 0.963972...\n",
      "3      C0004  [(C0113, 0.9950141093849689), (C0102, 0.983592...\n",
      "4      C0005  [(C0186, 0.9975070362104175), (C0159, 0.996987...\n"
     ]
    }
   ],
   "source": [
    "# Save results to Lookalike.csv\n",
    "lookalike_df.to_csv(\"Lookalike.csv\", index=False)\n",
    "\n",
    "# Display the first 5 lookalike results\n",
    "print(lookalike_df.head())"
   ]
  },
  {
   "cell_type": "code",
   "execution_count": null,
   "id": "6d84a437-88a5-4089-b1a2-5c853a0891d7",
   "metadata": {},
   "outputs": [],
   "source": [
    "#Explanation of the Code:\n",
    "#1.Data Preprocessing:\n",
    "#*Merged Customers.csv, Products.csv, and Transactions.csv to create a single dataset.\n",
    "#*Aggregated key features (e.g., total products purchased, total value spent) for each customer to construct a customer profile.\n",
    "\n",
    "#Feature Engineering:\n",
    "#*Encoded categorical features (Region) into numerical values using one-hot encoding.\n",
    "#*Standardized features using StandardScaler for uniform scaling.\n",
    "\n",
    "#Similarity Calculation:\n",
    "#*Calculated pairwise cosine similarity between customer profiles using cosine_similarity from sklearn.\n",
    "\n",
    "#Top 3 Recommendations:\n",
    "#For each customer, identified the 3 most similar customers (excluding the customer itself) based on similarity scores."
   ]
  }
 ],
 "metadata": {
  "kernelspec": {
   "display_name": "Python [conda env:base] *",
   "language": "python",
   "name": "conda-base-py"
  },
  "language_info": {
   "codemirror_mode": {
    "name": "ipython",
    "version": 3
   },
   "file_extension": ".py",
   "mimetype": "text/x-python",
   "name": "python",
   "nbconvert_exporter": "python",
   "pygments_lexer": "ipython3",
   "version": "3.12.7"
  }
 },
 "nbformat": 4,
 "nbformat_minor": 5
}
